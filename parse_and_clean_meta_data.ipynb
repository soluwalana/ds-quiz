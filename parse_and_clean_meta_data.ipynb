{
  "nbformat": 4,
  "nbformat_minor": 0,
  "metadata": {
    "colab": {
      "name": "parse_and_clean_meta_data.ipynb",
      "provenance": [],
      "collapsed_sections": [],
      "include_colab_link": true
    },
    "kernelspec": {
      "name": "python3",
      "display_name": "Python 3"
    }
  },
  "cells": [
    {
      "cell_type": "markdown",
      "metadata": {
        "id": "view-in-github",
        "colab_type": "text"
      },
      "source": [
        "<a href=\"https://colab.research.google.com/github/soluwalana/ds-quiz/blob/main/parse_and_clean_meta_data.ipynb\" target=\"_parent\"><img src=\"https://colab.research.google.com/assets/colab-badge.svg\" alt=\"Open In Colab\"/></a>"
      ]
    },
    {
      "cell_type": "code",
      "metadata": {
        "id": "f5NDXrN2CtH7"
      },
      "source": [
        "import os\n",
        "import json\n",
        "import gzip\n",
        "import pandas as pd\n",
        "from urllib.request import urlopen\n",
        "from collections import defaultdict"
      ],
      "execution_count": null,
      "outputs": []
    },
    {
      "cell_type": "code",
      "metadata": {
        "id": "feWoOrmt4Tja",
        "colab": {
          "base_uri": "https://localhost:8080/"
        },
        "outputId": "e8046c01-e1a8-47c0-97f3-0bf2f73b7c75"
      },
      "source": [
        "!wget http://deepyeti.ucsd.edu/jianmo/amazon/categoryFiles/Gift_Cards.json.gz\n",
        "!wget http://deepyeti.ucsd.edu/jianmo/amazon/metaFiles2/meta_Gift_Cards.json.gz"
      ],
      "execution_count": null,
      "outputs": [
        {
          "output_type": "stream",
          "name": "stdout",
          "text": [
            "--2021-11-23 21:10:37--  http://deepyeti.ucsd.edu/jianmo/amazon/categoryFiles/Gift_Cards.json.gz\n",
            "Resolving deepyeti.ucsd.edu (deepyeti.ucsd.edu)... 169.228.63.50\n",
            "Connecting to deepyeti.ucsd.edu (deepyeti.ucsd.edu)|169.228.63.50|:80... connected.\n",
            "HTTP request sent, awaiting response... 200 OK\n",
            "Length: 11333918 (11M) [application/octet-stream]\n",
            "Saving to: ‘Gift_Cards.json.gz.2’\n",
            "\n",
            "Gift_Cards.json.gz. 100%[===================>]  10.81M  8.22MB/s    in 1.3s    \n",
            "\n",
            "2021-11-23 21:10:38 (8.22 MB/s) - ‘Gift_Cards.json.gz.2’ saved [11333918/11333918]\n",
            "\n",
            "--2021-11-23 21:10:38--  http://deepyeti.ucsd.edu/jianmo/amazon/metaFiles2/meta_Gift_Cards.json.gz\n",
            "Resolving deepyeti.ucsd.edu (deepyeti.ucsd.edu)... 169.228.63.50\n",
            "Connecting to deepyeti.ucsd.edu (deepyeti.ucsd.edu)|169.228.63.50|:80... connected.\n",
            "HTTP request sent, awaiting response... 200 OK\n",
            "Length: 389825 (381K) [application/octet-stream]\n",
            "Saving to: ‘meta_Gift_Cards.json.gz’\n",
            "\n",
            "meta_Gift_Cards.jso 100%[===================>] 380.69K   724KB/s    in 0.5s    \n",
            "\n",
            "2021-11-23 21:10:39 (724 KB/s) - ‘meta_Gift_Cards.json.gz’ saved [389825/389825]\n",
            "\n"
          ]
        }
      ]
    },
    {
      "cell_type": "code",
      "metadata": {
        "id": "7igYuRaV4bF7",
        "colab": {
          "base_uri": "https://localhost:8080/"
        },
        "outputId": "5123a2a1-52b8-4e9f-ef9e-6cdc6bd81a8e"
      },
      "source": [
        "### load the meta data\n",
        "\n",
        "data = []\n",
        "reviews = defaultdict(list)\n",
        "with gzip.open('Gift_Cards.json.gz') as f:\n",
        "    for l in f:\n",
        "        x = json.loads(l.strip())\n",
        "        reviews[x[\"asin\"]].append(x)\n",
        "        data.append(x)\n",
        "\n",
        "    \n",
        "# total length of list, this number equals total number of products\n",
        "print(len(data))\n",
        "print(len(reviews))\n",
        "\n",
        "# first row of the list\n",
        "\n",
        "\n",
        "products = {}\n",
        "data1 = []\n",
        "with gzip.open('meta_Gift_Cards.json.gz') as f:\n",
        "    for l in f:\n",
        "        x = json.loads(l.strip())\n",
        "        if 'asin' in x:\n",
        "          products[x[\"asin\"]] = x\n",
        "        elif 'ASIN' in x:\n",
        "          products[x[\"ASIN\"]] = x\n",
        "        elif 'asin:' in x:\n",
        "          products[x[\"asin:\"]] = x\n",
        "        elif 'ASIN:' in x:\n",
        "         products[x[\"ASIN:\"]] = x\n",
        "        elif \"ASIN\" in x[\"details\"]:\n",
        "          products[x[\"details\"][\"ASIN\"]] = x\n",
        "        elif \"ASIN:\" in x[\"details\"]:\n",
        "          products[x[\"details\"][\"ASIN:\"]] = x\n",
        "        data1.append(x)\n",
        "    \n",
        "# total length of list, this number equals total number of products\n",
        "print(len(data1))\n",
        "print(len(products))\n",
        "# first row of the list\n"
      ],
      "execution_count": null,
      "outputs": [
        {
          "output_type": "stream",
          "name": "stdout",
          "text": [
            "147194\n",
            "1548\n",
            "1547\n",
            "1547\n"
          ]
        }
      ]
    },
    {
      "cell_type": "code",
      "metadata": {
        "id": "knpHP22w4scK",
        "colab": {
          "base_uri": "https://localhost:8080/",
          "height": 34
        },
        "outputId": "b75be678-1377-4b8c-b689-56e1eab703b8"
      },
      "source": [
        "# convert list into pandas dataframe\n",
        "\n",
        "df = pd.DataFrame.from_dict(data)\n",
        "\n",
        "print(len(df))"
      ],
      "execution_count": null,
      "outputs": [
        {
          "output_type": "stream",
          "text": [
            "18772\n"
          ],
          "name": "stdout"
        }
      ]
    },
    {
      "cell_type": "code",
      "metadata": {
        "id": "LgWrDtZ94w89",
        "colab": {
          "base_uri": "https://localhost:8080/",
          "height": 51
        },
        "outputId": "7e22e4ab-1622-4452-ce81-54e85ef92522"
      },
      "source": [
        "### remove rows with unformatted title (i.e. some 'title' may still contain html style content)\n",
        "\n",
        "df3 = df.fillna('')\n",
        "df4 = df3[df3.title.str.contains('getTime')] # unformatted rows\n",
        "df5 = df3[~df3.title.str.contains('getTime')] # filter those unformatted rows\n",
        "print(len(df4))\n",
        "print(len(df5))"
      ],
      "execution_count": null,
      "outputs": [
        {
          "output_type": "stream",
          "text": [
            "135\n",
            "18637\n"
          ],
          "name": "stdout"
        }
      ]
    },
    {
      "cell_type": "code",
      "metadata": {
        "id": "7Vq32rQd5D9W",
        "colab": {
          "base_uri": "https://localhost:8080/",
          "height": 306
        },
        "outputId": "2965e85b-d993-4520-a992-d42e0cec3f01"
      },
      "source": [
        "# how those unformatted rows look like\n",
        "df4.iloc[0]"
      ],
      "execution_count": null,
      "outputs": [
        {
          "output_type": "execute_result",
          "data": {
            "text/plain": [
              "description                                                      \n",
              "title           var aPageStart = (new Date()).getTime();\\nvar ...\n",
              "image                                                            \n",
              "brand                                              DS Miller Inc.\n",
              "rank            [>#1,826,312 in Electronics (See Top 100 in El...\n",
              "main_cat                                                Computers\n",
              "date                                                March 1, 2010\n",
              "asin                                                   B0016C5EXY\n",
              "feature                                                          \n",
              "tech1                                                            \n",
              "also_buy                                                         \n",
              "price                                                            \n",
              "also_view                                                        \n",
              "tech2                                                            \n",
              "details                                                          \n",
              "similar_item                                                     \n",
              "Name: 1186, dtype: object"
            ]
          },
          "metadata": {
            "tags": []
          },
          "execution_count": 7
        }
      ]
    },
    {
      "cell_type": "code",
      "metadata": {
        "id": "6LBLzsFU5LJ_"
      },
      "source": [
        ""
      ],
      "execution_count": null,
      "outputs": []
    },
    {
      "cell_type": "code",
      "metadata": {
        "id": "WqZcdGp-5cui"
      },
      "source": [
        ""
      ],
      "execution_count": null,
      "outputs": []
    }
  ]
}